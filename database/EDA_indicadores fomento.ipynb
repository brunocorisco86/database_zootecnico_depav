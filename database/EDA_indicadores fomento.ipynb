{
 "cells": [
  {
   "cell_type": "code",
   "execution_count": 7,
   "id": "b8401b58",
   "metadata": {},
   "outputs": [
    {
     "name": "stdout",
     "output_type": "stream",
     "text": [
      "Available sheets:\n",
      "- BD_Aero\n",
      "- BD_Celulite\n",
      "- BD_Cont_GIB\n",
      "- BD_Matrizes(wo_outliers)\n",
      "- BD_Medicamentos\n",
      "- BD_Mort\n",
      "- BD_Pagamento_Produtor\n",
      "- BD_Resultado Lotes\n",
      "- Cad\n",
      "- Cad_Classificação\n",
      "- Cama\n",
      "- Classificação_Aviários\n",
      "- Custo Classificação\n",
      "- Custo Fornecedor\n",
      "- Custo IEP\n",
      "- Custo Mesorregião\n",
      "- Custo Origem Pinto\n",
      "- Custo Proj\n",
      "- Custo idade abate\n",
      "- Densidade\n",
      "- Ev.Cond.Linh\n",
      "- Fornecedor Pinto\n",
      "- Global Gap\n",
      "- Gráf. Evolução\n",
      "- Idade Matriz\n",
      "- KPIs_versus_CLASSIF\n",
      "- Linhagem\n",
      "- Lotes medicados\n",
      "- Matriz\n",
      "- Memória\n",
      "- Mort.Forn.Pinto\n",
      "- PICS\n",
      "- Ponte_Painel\n",
      "- Ranking Causa\n",
      "- Ranking Extensionista\n",
      "- Ranking Medicamentos\n",
      "- Ranking Produtor\n",
      "- Ranking Região\n",
      "- Ranking Técnico\n",
      "- Sexo\n",
      "- Swab\n",
      "- Tab. Evolução\n",
      "- Tipo Ração\n",
      "- Vazio\n"
     ]
    }
   ],
   "source": [
    "import pandas as pd\n",
    "from pathlib import Path\n",
    "\n",
    "\n",
    "file_path = \"Indicadores_Fomento_2025.xlsb\"\n",
    "\n",
    "try:\n",
    "    # Read all sheet names from the XLSB file\n",
    "    excel_file = pd.ExcelFile(file_path, engine='pyxlsb')\n",
    "    sheet_names = excel_file.sheet_names\n",
    "    \n",
    "    print(\"Available sheets:\")\n",
    "    for sheet in sorted(sheet_names):\n",
    "        print(f\"- {sheet}\")\n",
    "    \n",
    "    sheets = sheet_names\n",
    "\n",
    "except FileNotFoundError:\n",
    "    print(f\"Error: File '{file_path}' not found\")\n",
    "    sheets = None\n",
    "except Exception as e:\n",
    "    print(f\"Error: {str(e)}\")\n",
    "    sheets = None"
   ]
  },
  {
   "cell_type": "code",
   "execution_count": 8,
   "id": "d8fa556d",
   "metadata": {},
   "outputs": [
    {
     "name": "stdout",
     "output_type": "stream",
     "text": [
      "  Número Composto              Proprietario  Data do Abate Dark House  \\\n",
      "0          938-61          FERNANDO PIVETTA        45659.0      Falso   \n",
      "1         1253-17  DANIELA BORDIGNON BENITI        45659.0      Falso   \n",
      "2         160-169        JOSE ANTONIO TONDO        45659.0      Falso   \n",
      "3         1276-14     SERGIO LUIS SPESSOTTO        45659.0      Falso   \n",
      "4         632-101                BENO GIESE        45659.0      Falso   \n",
      "\n",
      "   Fazenda   Lote  1Sem (M+E)  Nome Linhagem  Frete Alojamento  Frete Ração  \\\n",
      "0    938.0   61.0       159.0        ROSS AP              0.00      3378.80   \n",
      "1   1253.0   17.0       360.0        ROSS AP              0.00      3105.92   \n",
      "2    160.0  169.0        91.0        ROSS AP              0.00      2052.18   \n",
      "3   1276.0   14.0       459.0  COBB SLOW 500              0.00      5407.93   \n",
      "4    632.0  101.0       386.0        ROSS AP            126.91      2421.18   \n",
      "\n",
      "   ... % Parcial Aerossacolite % Parcial - Lesão de Pele % Cond Total  \\\n",
      "0  ...                0.007578                  0.007088     0.001621   \n",
      "1  ...                0.012129                  0.010973     0.002471   \n",
      "2  ...                0.005742                  0.022223     0.000797   \n",
      "3  ...                0.044201                  0.007814     0.004585   \n",
      "4  ...                0.006784                  0.014211     0.001462   \n",
      "\n",
      "   %Cond Parcial Total Celulite Parcial Celulite Unnamed: 90  Unnamed: 91  \\\n",
      "0       0.082642       0.000038         0.009614         NaN          NaN   \n",
      "1       0.096515       0.000032         0.021113         NaN          NaN   \n",
      "2       0.116859              0         0.021639         NaN          NaN   \n",
      "3       0.161501       0.000032         0.021955         NaN          NaN   \n",
      "4       0.081637              0         0.013099         NaN          NaN   \n",
      "\n",
      "  Unnamed: 92 Unnamed: 93  \n",
      "0         NaN         NaN  \n",
      "1         NaN         NaN  \n",
      "2         NaN         NaN  \n",
      "3         NaN         NaN  \n",
      "4         NaN         NaN  \n",
      "\n",
      "[5 rows x 94 columns]\n"
     ]
    }
   ],
   "source": [
    "if sheets and 'BD_Resultado Lotes' in sheets:\n",
    "    try:\n",
    "        df_resultado_lotes = excel_file.parse('BD_Resultado Lotes')\n",
    "        print(df_resultado_lotes.head())\n",
    "    except Exception as e:\n",
    "        print(f\"Error reading sheet 'BD_Resultado Lotes': {str(e)}\")\n",
    "else:\n",
    "    print(\"Sheet 'BD_Resultado Lotes' not found or sheets not loaded.\")"
   ]
  },
  {
   "cell_type": "code",
   "execution_count": 11,
   "id": "974cf650",
   "metadata": {},
   "outputs": [
    {
     "name": "stdout",
     "output_type": "stream",
     "text": [
      "    Fazenda              Proprietario  Conversão Alimentar CLASSIFICAÇÃO\n",
      "0     938.0          FERNANDO PIVETTA                1.711             B\n",
      "1    1253.0  DANIELA BORDIGNON BENITI                1.636             A\n",
      "2     160.0        JOSE ANTONIO TONDO                1.713             B\n",
      "3    1276.0     SERGIO LUIS SPESSOTTO                1.761             B\n",
      "4     632.0                BENO GIESE                1.650             F\n",
      "5    1252.0  DANIELA BORDIGNON BENITI                1.609             A\n",
      "6     624.0           ZILMA LENZ MUCH                1.840             F\n",
      "7     826.0          HISAAKI HATAMOTO                1.867             D\n",
      "8    1277.0     SERGIO LUIS SPESSOTTO                1.732             B\n",
      "9     907.0        JOSE ANTONIO TONDO                1.751             D\n",
      "10    513.0       JOAO GOMES SOBRINHO                1.655             E\n",
      "11    631.0                BENO GIESE                1.825             F\n",
      "12    939.0          FERNANDO PIVETTA                1.750             B\n",
      "13   1236.0                BENO GIESE                1.635             B\n",
      "14    208.0       JOAO GOMES SOBRINHO                1.716             E\n"
     ]
    }
   ],
   "source": [
    "# Selecionar as colunas que deseja manter\n",
    "if 'df_resultado_lotes' in locals() and df_resultado_lotes is not None:\n",
    "\t# Select specific columns\n",
    "\tdf_resultado_lotes = df_resultado_lotes[['Fazenda', 'Proprietario', 'Conversão Alimentar', 'CLASSIFICAÇÃO']]\n",
    "\tprint(df_resultado_lotes.head(15))\n",
    "else:\n",
    "\tprint(\"Error: df_resultado_lotes is not available. Please ensure the Excel file is loaded correctly in the previous cells.\")\n"
   ]
  }
 ],
 "metadata": {
  "kernelspec": {
   "display_name": "Python 3",
   "language": "python",
   "name": "python3"
  },
  "language_info": {
   "codemirror_mode": {
    "name": "ipython",
    "version": 3
   },
   "file_extension": ".py",
   "mimetype": "text/x-python",
   "name": "python",
   "nbconvert_exporter": "python",
   "pygments_lexer": "ipython3",
   "version": "3.13.3"
  }
 },
 "nbformat": 4,
 "nbformat_minor": 5
}
