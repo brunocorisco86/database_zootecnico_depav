{
 "cells": [
  {
   "cell_type": "code",
   "execution_count": 2,
   "id": "138e880c",
   "metadata": {},
   "outputs": [
    {
     "name": "stdout",
     "output_type": "stream",
     "text": [
      "['BD_AVIARIOS_FABRICA', 'ISOTERMICO', 'SETUP', 'BD', 'DADOS CADASTRAIS', 'APLICADOR_CAL', 'CAPACIDADE SILO', 'ENDEREÇO_FAB', 'PROJETO_SALMONELLA', 'GRANJAS ATIVAS', 'eProdutor', 'MALA_DIRETA', 'RAIO_MEDIO', 'CATIA', 'REGISTRO_ADAPAR', 'PCC', 'ANALISE', 'CEP BRASIL', 'GRANJAS POR MICRORREGIAO', 'PRE_GLOBAL', 'TIPOS_AVIARIO', 'Agriness', 'Painéis', 'Trinovati', 'STW', 'Agrisolus', 'PROJETOS AVIARIOS', 'PROJETOS_GRANJAS', 'CAPACIDADE', 'BP_ASSOCIADO', 'SENTINELA', 'RAÇÃO', 'CICLOS POSITIVO', 'CICLO_NEGATIVO', 'NUCLEO_EXTERNO', 'NUCLEOS_SAP', 'CADASTRO_VACCINAR', 'PROJETO_BEM_ESTAR', 'CARENCIA', 'MICRORREGIOES', 'RAÇÃO_PLUSVAL', 'CONVERTER', 'METRAGENS', 'COORDENADAS', 'ENTERRIO', 'LISTA_GLOBAL_GAP', 'DIVISAO_REGIOES_DANIEL', 'DIVISAO_TECNICOS', 'N', 'FAGOS', 'EQUIPES']\n"
     ]
    }
   ],
   "source": [
    "import pandas as pd\n",
    "\n",
    "excel_file = pd.ExcelFile(\"PLANILHA MESTRA.xlsx\")\n",
    "print(excel_file.sheet_names)\n",
    "\n",
    "\n"
   ]
  },
  {
   "cell_type": "code",
   "execution_count": null,
   "id": "f11be749",
   "metadata": {},
   "outputs": [
    {
     "name": "stdout",
     "output_type": "stream",
     "text": [
      "  Aviário Número do Núcleo\n",
      "0     101              310\n",
      "1     102              106\n",
      "2     103              289\n",
      "3     104              293\n",
      "4     105              312\n"
     ]
    }
   ],
   "source": [
    "excel_file = pd.ExcelFile(\"PLANILHA MESTRA.xlsx\")\n",
    "df = excel_file.parse(\"DADOS CADASTRAIS\", header=0, usecols=['Aviário', 'Número do Núcleo'])\n",
    "df = df.dropna(subset=['Número do Núcleo']) #modify número do nucleo para string and remove decimal points\n",
    "df['Número do Núcleo'] = df['Número do Núcleo'].astype(float).astype(int)  # Convert to float then to int to remove decimals    \n",
    "df['Número do Núcleo'] = df['Número do Núcleo'].astype(str)\n",
    "print(df.head())"
   ]
  }
 ],
 "metadata": {
  "kernelspec": {
   "display_name": "Python 3",
   "language": "python",
   "name": "python3"
  },
  "language_info": {
   "codemirror_mode": {
    "name": "ipython",
    "version": 3
   },
   "file_extension": ".py",
   "mimetype": "text/x-python",
   "name": "python",
   "nbconvert_exporter": "python",
   "pygments_lexer": "ipython3",
   "version": "3.13.3"
  }
 },
 "nbformat": 4,
 "nbformat_minor": 5
}
