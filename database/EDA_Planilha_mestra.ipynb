{
 "cells": [
  {
   "cell_type": "code",
   "execution_count": 2,
   "id": "138e880c",
   "metadata": {},
   "outputs": [
    {
     "name": "stdout",
     "output_type": "stream",
     "text": [
      "Available sheets:\n",
      "- ANALISE\n",
      "- APLICADOR_CAL\n",
      "- Agriness\n",
      "- Agrisolus\n",
      "- BD\n",
      "- BD_AVIARIOS_FABRICA\n",
      "- BP_ASSOCIADO\n",
      "- CADASTRO_VACCINAR\n",
      "- CAPACIDADE\n",
      "- CAPACIDADE SILO\n",
      "- CARENCIA\n",
      "- CATIA\n",
      "- CEP BRASIL\n",
      "- CICLOS POSITIVO\n",
      "- CICLO_NEGATIVO\n",
      "- CONVERTER\n",
      "- COORDENADAS\n",
      "- DADOS CADASTRAIS\n",
      "- DIVISAO_REGIOES_DANIEL\n",
      "- DIVISAO_TECNICOS\n",
      "- ENDEREÇO_FAB\n",
      "- ENTERRIO\n",
      "- EQUIPES\n",
      "- FAGOS\n",
      "- GRANJAS ATIVAS\n",
      "- GRANJAS POR MICRORREGIAO\n",
      "- ISOTERMICO\n",
      "- LISTA_GLOBAL_GAP\n",
      "- MALA_DIRETA\n",
      "- METRAGENS\n",
      "- MICRORREGIOES\n",
      "- N\n",
      "- NUCLEOS_SAP\n",
      "- NUCLEO_EXTERNO\n",
      "- PCC\n",
      "- PRE_GLOBAL\n",
      "- PROJETOS AVIARIOS\n",
      "- PROJETOS_GRANJAS\n",
      "- PROJETO_BEM_ESTAR\n",
      "- PROJETO_SALMONELLA\n",
      "- Painéis\n",
      "- RAIO_MEDIO\n",
      "- RAÇÃO\n",
      "- RAÇÃO_PLUSVAL\n",
      "- REGISTRO_ADAPAR\n",
      "- SENTINELA\n",
      "- SETUP\n",
      "- STW\n",
      "- TIPOS_AVIARIO\n",
      "- Trinovati\n",
      "- eProdutor\n"
     ]
    }
   ],
   "source": [
    "import pandas as pd\n",
    "from pathlib import Path\n",
    "\n",
    "\n",
    "file_path = \"PLANILHA_MESTRA.xlsx\"\n",
    "\n",
    "try:\n",
    "    # Read all sheet names from the XLSB file\n",
    "    excel_file = pd.ExcelFile(file_path)\n",
    "    sheet_names = excel_file.sheet_names\n",
    "    \n",
    "    print(\"Available sheets:\")\n",
    "    for sheet in sorted(sheet_names):\n",
    "        print(f\"- {sheet}\")\n",
    "    \n",
    "    sheets = sheet_names\n",
    "\n",
    "except FileNotFoundError:\n",
    "    print(f\"Error: File '{file_path}' not found\")\n",
    "    sheets = None\n",
    "except Exception as e:\n",
    "    print(f\"Error: {str(e)}\")\n",
    "    sheets = None\n",
    "\n"
   ]
  },
  {
   "cell_type": "code",
   "execution_count": 4,
   "id": "5cfb6e42",
   "metadata": {},
   "outputs": [
    {
     "name": "stdout",
     "output_type": "stream",
     "text": [
      "  Aviário       Nome Proprietário  distancia abatedouro  Tempo Abatedouro  \\\n",
      "0     101      JOSE ELIAS PANDINI                    67                51   \n",
      "1     102    PAULO CEZAR HOFFMANN                    15                15   \n",
      "2     103             ADIR MARLOW                    55                42   \n",
      "3     104  BERNARDO MARIO PASTORE                    49                36   \n",
      "4     105   LEVI MARTINHO HARTWIG                    47                36   \n",
      "\n",
      "     Cidade ALO FREE Global Gap Telefone Celular       Telefone  \\\n",
      "0    Maripa    Falso        Não     44-3646 1135   44-3646 1135   \n",
      "1  Palotina    Falso        Não      44999770145     4436491101   \n",
      "2    Maripa    Falso        Não     44 9956-8098   44 9956-8098   \n",
      "3    Maripa    Falso        Não    44 99959-2529  44-99956 5485   \n",
      "4    Maripa    Falso        Não     44 9926 3131   44-3687-1265   \n",
      "\n",
      "   Código BP Associado  ...            Unnamed: 75  \\\n",
      "0          100090657.0  ...  Código BP Propriedade   \n",
      "1          100097802.0  ...             0100197153   \n",
      "2          100135375.0  ...             0100161387   \n",
      "3          100093658.0  ...             0100160705   \n",
      "4          100079167.0  ...             0100160705   \n",
      "\n",
      "                  Unnamed: 76               Unnamed: 77  \\\n",
      "0  Código BP Associado Suinos  Código BP Associado Aves   \n",
      "1                         NaN                0100082550   \n",
      "2                         NaN                0100007298   \n",
      "3                         NaN                0100131524   \n",
      "4                         NaN                0100131524   \n",
      "\n",
      "             Unnamed: 78      Unnamed: 79        Unnamed: 80      Unnamed: 81  \\\n",
      "0  Capacidade de Cabeças  RG Proprietário  Pertence ao HACCP     Pertence ABS   \n",
      "1                  23500          1397706    Não selecionado  Não selecionado   \n",
      "2                  35000         34168873    Não selecionado  Não selecionado   \n",
      "3                  23500          2140794    Não selecionado  Não selecionado   \n",
      "4                  23500          2140794    Não selecionado  Não selecionado   \n",
      "\n",
      "        Unnamed: 82    Unnamed: 83        Unnamed: 84  \n",
      "0  Número do Núcleo  Num. Registro              INCRA  \n",
      "1               186  R410200000077  721.018.002.429-8  \n",
      "2               126  R411722200039  721.204.006.254-0  \n",
      "3                19  R411790900103  721.158.057.673-3  \n",
      "4                19  R411790900103  721.158.057.673-3  \n",
      "\n",
      "[5 rows x 85 columns]\n"
     ]
    }
   ],
   "source": [
    "if sheets and 'DADOS CADASTRAIS' in sheets:\n",
    "    try:\n",
    "        df_mestra = excel_file.parse('DADOS CADASTRAIS')\n",
    "        print(df_mestra.head())\n",
    "    except Exception as e:\n",
    "        print(f\"Error reading sheet 'DADOS CADASTRAIS': {str(e)}\")\n",
    "else:\n",
    "    print(\"Sheet 'DADOS CADASTRAIS' not found or sheets not loaded.\")"
   ]
  },
  {
   "cell_type": "code",
   "execution_count": 7,
   "id": "f11be749",
   "metadata": {},
   "outputs": [
    {
     "name": "stdout",
     "output_type": "stream",
     "text": [
      "  Aviário       Nome Proprietário Número do Núcleo\n",
      "0     101      JOSE ELIAS PANDINI              310\n",
      "1     102    PAULO CEZAR HOFFMANN              106\n",
      "2     103             ADIR MARLOW              289\n",
      "3     104  BERNARDO MARIO PASTORE              293\n",
      "4     105   LEVI MARTINHO HARTWIG              312\n"
     ]
    }
   ],
   "source": [
    "excel_file = pd.ExcelFile(\"PLANILHA_MESTRA.xlsx\")\n",
    "df_mestra_nova = excel_file.parse(\"DADOS CADASTRAIS\", header=0, usecols=['Aviário', 'Número do Núcleo','Nome Proprietário'])\n",
    "df_mestra_nova = df.dropna(subset=['Número do Núcleo']) #modify número do nucleo para string and remove decimal points\n",
    "df_mestra_nova['Número do Núcleo'] = df_mestra_nova['Número do Núcleo'].astype(float).astype(int)  # Convert to float then to int to remove decimals    \n",
    "df_mestra_nova['Número do Núcleo'] = df_mestra_nova['Número do Núcleo'].astype(str)\n",
    "print(df.head())"
   ]
  }
 ],
 "metadata": {
  "kernelspec": {
   "display_name": "Python 3",
   "language": "python",
   "name": "python3"
  },
  "language_info": {
   "codemirror_mode": {
    "name": "ipython",
    "version": 3
   },
   "file_extension": ".py",
   "mimetype": "text/x-python",
   "name": "python",
   "nbconvert_exporter": "python",
   "pygments_lexer": "ipython3",
   "version": "3.13.3"
  }
 },
 "nbformat": 4,
 "nbformat_minor": 5
}
