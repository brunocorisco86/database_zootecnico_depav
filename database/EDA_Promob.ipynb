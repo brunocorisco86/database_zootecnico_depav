{
 "cells": [
  {
   "cell_type": "code",
   "execution_count": 17,
   "id": "b8401b58",
   "metadata": {},
   "outputs": [
    {
     "name": "stdout",
     "output_type": "stream",
     "text": [
      "Available sheets:\n",
      "- Evolução\n",
      "- Técnico\n",
      "- Produtor\n",
      "- Ranking\n",
      "- Ranking Semanal\n",
      "- Plano de Ação\n",
      "- Geral\n",
      "- Check Duplicidade\n",
      "- Impressão 09-08-21 a 09-08-22\n",
      "- Impressão após 10-08-22\n",
      "- Lançamento\n",
      "- Ponte\n",
      "- Dados\n",
      "- REAVALIAÇÃO\n",
      "- BLOQUEADOS\n",
      "- Próximo Check-list\n",
      "- Último Check-list\n",
      "- Consultas\n"
     ]
    }
   ],
   "source": [
    "import pandas as pd\n",
    "from pathlib import Path\n",
    "\n",
    "\n",
    "file_path = \"ProMOB_2022.xlsb\"\n",
    "\n",
    "try:\n",
    "    # Read all sheet names from the XLSB file\n",
    "    excel_file = pd.ExcelFile(file_path, engine='pyxlsb')\n",
    "    sheet_names = excel_file.sheet_names\n",
    "    \n",
    "    print(\"Available sheets:\")\n",
    "    for sheet in sheet_names:\n",
    "        print(f\"- {sheet}\")\n",
    "    \n",
    "    sheets = sheet_names\n",
    "\n",
    "except FileNotFoundError:\n",
    "    print(f\"Error: File '{file_path}' not found\")\n",
    "    sheets = None\n",
    "except Exception as e:\n",
    "    print(f\"Error: {str(e)}\")\n",
    "    sheets = None\n",
    "\n"
   ]
  },
  {
   "cell_type": "code",
   "execution_count": 18,
   "id": "d8fa556d",
   "metadata": {},
   "outputs": [
    {
     "name": "stdout",
     "output_type": "stream",
     "text": [
      "    Data  Aviário  Lote Avaliador       Digitador    1    2    3  4    5  ...  \\\n",
      "0  44564     1180     6   ISABELA  ANA CLAUDIA W.    C    C    C  C    C  ...   \n",
      "1  44564      166   152    MAYARA  ANA CLAUDIA W.    C    C  N/C  C    C  ...   \n",
      "2  44564     1092    17    MAYARA  ANA CLAUDIA W.    C    C    C  C  N/C  ...   \n",
      "3  44564     1219     3   ISABELA  ANA CLAUDIA W.    C    C    C  C    C  ...   \n",
      "4  44564      115   151   ISABELA  ANA CLAUDIA W.  N/C  N/C  NaN  C    C  ...   \n",
      "\n",
      "    48   49      Nota Núcleo              Proprietário  \\\n",
      "0  NaN  NaN  0.950000    362    MARILENE BURIN GLAESER   \n",
      "1  NaN  NaN  0.969697      9      EDMIR ANTONIO SOARES   \n",
      "2  NaN  NaN  0.910000    353  ADEMIR FERREIRA DE PADUA   \n",
      "3  NaN  NaN  0.939394    376          GABRIEL CANEVESE   \n",
      "4  NaN  NaN  0.845361    123           VALDIR CANEVESE   \n",
      "\n",
      "                              Técnico     Mês Aviário-Lote Semana  \\\n",
      "0  INAIARA CALCAGNO RODRIGUES BUTTINI  202201       1180-6      2   \n",
      "1           LEONARDO HENRIQUE RIZELLO  202201      166-152      2   \n",
      "2           LEONARDO HENRIQUE RIZELLO  202201      1092-17      2   \n",
      "3                     WILLIAN QUEIROZ  202201       1219-3      2   \n",
      "4                     WILLIAN QUEIROZ  202201      115-151      2   \n",
      "\n",
      "  PLANO DE AÇÃO  \n",
      "0             C  \n",
      "1            NC  \n",
      "2            NC  \n",
      "3            NC  \n",
      "4            NC  \n",
      "\n",
      "[5 rows x 62 columns]\n"
     ]
    }
   ],
   "source": [
    "if sheets and 'Dados' in sheets:\n",
    "    try:\n",
    "        df_resultado_ProMOB = excel_file.parse('Dados')\n",
    "        print(df_resultado_ProMOB.head())\n",
    "    except Exception as e:\n",
    "        print(f\"Error reading sheet 'Dados': {str(e)}\")\n",
    "else:\n",
    "    print(\"Sheet 'Dados' not found or sheets not loaded.\")"
   ]
  },
  {
   "cell_type": "code",
   "execution_count": 19,
   "id": "974cf650",
   "metadata": {},
   "outputs": [
    {
     "name": "stdout",
     "output_type": "stream",
     "text": [
      "  Aviário-Lote  Núcleo   Técnico  Nota   Ano\n",
      "0       1180-6     362   INAIARA  95.0  2022\n",
      "1      166-152       9  LEONARDO  97.0  2022\n",
      "2      1092-17     353  LEONARDO  91.0  2022\n",
      "3       1219-3     376   WILLIAN  93.9  2022\n",
      "4      115-151     123   WILLIAN  84.5  2022\n"
     ]
    }
   ],
   "source": [
    "# Select specific columns\n",
    "df_resultado_ProMOB = df_resultado_ProMOB[['Aviário-Lote','Núcleo','Mês','Técnico','Nota']]\n",
    "\n",
    "# Remove duplicates based on 'Aviário-Lote'\n",
    "df_resultado_ProMOB = df_resultado_ProMOB.drop_duplicates(subset=['Aviário-Lote'])\n",
    "\n",
    "# Extract first 4 characters from 'Mês' column and rename to 'Ano'\n",
    "df_resultado_ProMOB['Ano'] = df_resultado_ProMOB['Mês'].astype(str).str[:4]\n",
    "df_resultado_ProMOB = df_resultado_ProMOB.drop('Mês', axis=1)\n",
    "\n",
    "# Extract only the first name from 'Técnico' column\n",
    "df_resultado_ProMOB['Técnico'] = df_resultado_ProMOB['Técnico'].str.split().str[0]\n",
    "\n",
    "# Multiply the 'Nota' column by 100\n",
    "df_resultado_ProMOB['Nota'] = df_resultado_ProMOB['Nota'] * 100\n",
    "# Round the 'Nota' column to 1 decimal place\n",
    "df_resultado_ProMOB['Nota'] = df_resultado_ProMOB['Nota'].round(1)\n",
    "\n",
    "print(df_resultado_ProMOB.head())\n"
   ]
  },
  {
   "cell_type": "code",
   "execution_count": 20,
   "id": "0ace4e1c",
   "metadata": {},
   "outputs": [
    {
     "name": "stdout",
     "output_type": "stream",
     "text": [
      "Error: File 'Indicadores Fomento_2025.xlsb' not found\n",
      "Sheet 'BD_Resultado Lotes' not found or sheets not loaded.\n"
     ]
    }
   ],
   "source": [
    "import pandas as pd\n",
    "import sqlite3\n",
    "from pathlib import Path\n",
    "\n",
    "# Define the file path\n",
    "file_path = \"Indicadores Fomento_2025.xlsb\"\n",
    "\n",
    "# Database file name\n",
    "db_file = \"fomento_data.db\"\n",
    "\n",
    "try:\n",
    "    # Read all sheet names from the XLSB file\n",
    "    excel_file = pd.ExcelFile(file_path, engine='pyxlsb')\n",
    "    sheet_names = excel_file.sheet_names\n",
    "    \n",
    "    print(\"Available sheets:\")\n",
    "    for sheet in sheet_names:\n",
    "        print(f\"- {sheet}\")\n",
    "    \n",
    "    sheets = sheet_names\n",
    "\n",
    "except FileNotFoundError:\n",
    "    print(f\"Error: File '{file_path}' not found\")\n",
    "    sheets = None\n",
    "except Exception as e:\n",
    "    print(f\"Error: {str(e)}\")\n",
    "    sheets = None\n",
    "\n",
    "if sheets and 'BD_Resultado Lotes' in sheets:\n",
    "    try:\n",
    "        df_resultado_lotes = excel_file.parse('BD_Resultado Lotes')\n",
    "        # Select specific columns\n",
    "        df_resultado_lotes = df_resultado_lotes[['Fazenda', 'Proprietario', 'Conversão Alimentar', 'CLASSIFICAÇÃO']]\n",
    "\n",
    "        # Connect to SQLite database\n",
    "        conn = sqlite3.connect(db_file)\n",
    "        \n",
    "        # Write the dataframe to a table in the SQLite database\n",
    "        df_resultado_lotes.to_sql('BD_Resultado_Lotes', conn, if_exists='replace', index=False)\n",
    "        \n",
    "        # Commit the changes and close the connection\n",
    "        conn.commit()\n",
    "        conn.close()\n",
    "        \n",
    "        print(f\"Data from sheet 'BD_Resultado Lotes' saved to '{db_file}' successfully.\")\n",
    "\n",
    "    except Exception as e:\n",
    "        print(f\"Error processing sheet 'BD_Resultado Lotes': {str(e)}\")\n",
    "else:\n",
    "    print(\"Sheet 'BD_Resultado Lotes' not found or sheets not loaded.\")"
   ]
  }
 ],
 "metadata": {
  "kernelspec": {
   "display_name": "Python 3",
   "language": "python",
   "name": "python3"
  },
  "language_info": {
   "codemirror_mode": {
    "name": "ipython",
    "version": 3
   },
   "file_extension": ".py",
   "mimetype": "text/x-python",
   "name": "python",
   "nbconvert_exporter": "python",
   "pygments_lexer": "ipython3",
   "version": "3.13.3"
  }
 },
 "nbformat": 4,
 "nbformat_minor": 5
}
